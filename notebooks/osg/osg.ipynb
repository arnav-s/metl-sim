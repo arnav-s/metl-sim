{
 "cells": [
  {
   "cell_type": "markdown",
   "id": "2e3f5e11-e67d-4c45-b47d-a5923cfd9692",
   "metadata": {},
   "source": [
    "# Running metl-sim on the OSG OSPool\n",
    "\n",
    "This notebook provides an interactive environment to deploy [metl-sim](https://github.com/gitter-lab/metl-sim) on the [OSG OSPool](https://portal.osg-htc.org).\n",
    "\n",
    "**Sections**\n",
    "1. Hello world\n",
    "2. Environment setup and Rosetta software download\n",
    "3. Running metl-sim on OSG\n",
    "\n",
    "For any questions, please open a GitHub issue [here](https://github.com/gitter-lab/metl-sim/issues). Our team is happy to help.\n"
   ]
  },
  {
   "cell_type": "markdown",
   "id": "7613b6e9-e800-42d4-9ba7-fe9fe2ff2cae",
   "metadata": {},
   "source": [
    "# Setup\n",
    "Run these cells to set up the environment."
   ]
  },
  {
   "cell_type": "code",
   "execution_count": 1,
   "id": "e9859161-8c42-4910-b1fa-8587ac94dd7e",
   "metadata": {},
   "outputs": [],
   "source": [
    "%load_ext autoreload\n",
    "%autoreload 2"
   ]
  },
  {
   "cell_type": "code",
   "execution_count": 2,
   "id": "39e7c4c3-ed72-40be-9433-c9650ce491a1",
   "metadata": {},
   "outputs": [],
   "source": [
    "import os\n",
    "from utils import *"
   ]
  },
  {
   "attachments": {},
   "cell_type": "markdown",
   "id": "0a907af9-0dfc-45ed-bafe-bdbfc06ac00f",
   "metadata": {},
   "source": [
    "# Hello world\n",
    "\n",
    "There are three main functions used in this notebook. This section shows how they work with a simple \"hello world\" example.\n",
    "\n",
    "| Function                         | Description |\n",
    "|:---------------------------------|:------------|\n",
    "| `submit_condor_job(job_name,job_type)` | Submits a job with a unique `'job_name'` and `'job_type'`. Available job types: `'helloworld'`, `'rosetta_download'`, and `'relax'`. |\n",
    "| `job_status()`                  | Checks the status of all jobs you have run. Also removes failed jobs if they are currently on OSPool. |\n",
    "| `remove_all_condor_jobs()`       | Removes all running and failed jobs. Should only be run after you are done using this notebook. |\n",
    "\n",
    "\n",
    "## Submit a hello world job\n",
    "\n",
    "Let's submit a job under the 'helloworld' job_type. This will submit a three jobs under one job_name. Each job will print \"Hello world!\" to the console. \n",
    "\n",
    "**<span style=\"color:red\">Important</span>**: The parameter `job_name` must be unique to each job. You cannot submit two jobs which have the same name. \n"
   ]
  },
  {
   "cell_type": "code",
   "execution_count": 31,
   "id": "0fac9f4b-20fc-4051-9041-298e638e0fdd",
   "metadata": {},
   "outputs": [
    {
     "name": "stdout",
     "output_type": "stream",
     "text": [
      "\u001b[92m✅ No job named 'hello_world_1' exists'. You can use this job name.\u001b[0m\n",
      "\u001b[92m✅ Setting up job type `helloworld`\u001b[0m\n",
      "\u001b[92m✅ Job name: 'hello_world_1' submitted \u001b[92m\n"
     ]
    }
   ],
   "source": [
    "submit_condor_job(job_name='hello_world_1', job_type='helloworld')"
   ]
  },
  {
   "cell_type": "markdown",
   "id": "d2b10a1c-c273-4cd4-b2ab-f4ba9fe3ffe9",
   "metadata": {},
   "source": [
    "## Check the status of your jobs\n",
    "\n",
    "To see the output of all currently running jobs, **and** remove all failed jobs, simply check the job status with `job_status()`. You can ignore the `💡 Notice:` output unless you are curious what is happening in the background when removing failed jobs. \n",
    "\n",
    "The `helloworld` job will take 5 minutes to complete. You can close this page during that time. When you come back, remember to run the cells in the `Setup` section before running any of the three functions. "
   ]
  },
  {
   "cell_type": "code",
   "execution_count": 33,
   "id": "5cd154f5-53a9-45b2-9bdb-5be4bfd4b8a7",
   "metadata": {},
   "outputs": [
    {
     "name": "stdout",
     "output_type": "stream",
     "text": [
      "\u001b[92m Status of all submitted jobs \u001b[0m\n",
      "                  Running⌛  Completed✅  Failed❌\n",
      "hello_world_1            0           3        0\n",
      "metl_sim_job_1           0           1        0\n",
      "rosetta_download         0           1        0\n"
     ]
    }
   ],
   "source": [
    "job_status()"
   ]
  },
  {
   "cell_type": "markdown",
   "id": "b1945b24-62b7-477e-b19c-942decf18fa9",
   "metadata": {},
   "source": [
    "## Remove all jobs"
   ]
  },
  {
   "cell_type": "markdown",
   "id": "9c1d21c8-2bab-4465-9ec7-b944a6e66487",
   "metadata": {},
   "source": [
    "The final function, `remove_all_condor_jobs()` will remove all jobs regardless of if they are `Running⌛` or `Failed❌`.\n",
    "\n",
    "**<span style=\"color:red\">Important</span>**:  If you run this command after submitting the above jobs, they will effectively be removed and moved to the `Failed❌` column. "
   ]
  },
  {
   "cell_type": "code",
   "execution_count": 34,
   "id": "c33267e7-c211-4d0f-97ce-3969a71b3c07",
   "metadata": {},
   "outputs": [
    {
     "name": "stdout",
     "output_type": "stream",
     "text": [
      "\u001b[92m No jobs active on Open Science Grid.\u001b[0m\n"
     ]
    }
   ],
   "source": [
    "remove_all_condor_jobs()"
   ]
  },
  {
   "cell_type": "markdown",
   "id": "4acaf4cb-7a83-40d7-8c93-62c8fd9be819",
   "metadata": {},
   "source": [
    "# Environment Setup and Rosetta Software Download "
   ]
  },
  {
   "cell_type": "markdown",
   "id": "45aaca1c-36f6-4402-a6a6-5aff150e0e14",
   "metadata": {},
   "source": [
    "## Download the Python environments\n",
    "\n",
    "Running these cells will download the Python environments necessary for running metl-sim. You only need to do this once."
   ]
  },
  {
   "cell_type": "code",
   "execution_count": 35,
   "id": "8c809aa1-3cf2-412a-960d-34731a6d5005",
   "metadata": {},
   "outputs": [
    {
     "name": "stdout",
     "output_type": "stream",
     "text": [
      "\u001b[93m🔔 Notice: File 'downloads/metl-sim_2025-02-13.tar.gz' already exists. No download needed.\u001b[0m\n"
     ]
    }
   ],
   "source": [
    "# Example usage:\n",
    "url = \"http://proxy.chtc.wisc.edu/SQUID/bcjohnson7/rosettafy_env_v0.7.11.tar.gz\"\n",
    "output_path = \"downloads/metl-sim_2025-02-13.tar.gz\"\n",
    "\n",
    "download_file(url, output_path, 'curl')"
   ]
  },
  {
   "cell_type": "markdown",
   "id": "7b073b08-bc5b-4b2b-bdd4-a0dc0ca5d0d0",
   "metadata": {},
   "source": [
    "Now we will untar the binary file. "
   ]
  },
  {
   "cell_type": "code",
   "execution_count": 7,
   "id": "811b29fe-6a6b-4008-872a-92bf460dc341",
   "metadata": {},
   "outputs": [
    {
     "name": "stderr",
     "output_type": "stream",
     "text": [
      "Extracting: 100%|██████████| 51616/51616 [02:47<00:00, 307.90file/s]"
     ]
    },
    {
     "name": "stdout",
     "output_type": "stream",
     "text": [
      "\u001b[92m✅ Success: File untarred to 'env'.\u001b[0m\n"
     ]
    },
    {
     "name": "stderr",
     "output_type": "stream",
     "text": [
      "\n"
     ]
    }
   ],
   "source": [
    "file_path = \"downloads/metl-sim_2025-02-13.tar.gz\"\n",
    "extract_dir = \"env\"\n",
    "\n",
    "untar_file_with_progress(file_path, extract_dir)"
   ]
  },
  {
   "cell_type": "code",
   "execution_count": 33,
   "id": "5e31b89c-5e16-4b7b-80d4-1794ded52ff3",
   "metadata": {},
   "outputs": [
    {
     "name": "stdout",
     "output_type": "stream",
     "text": [
      "\u001b[91m❌ Failure: HTTP 404 - Could not download the file.\u001b[0m\n"
     ]
    }
   ],
   "source": [
    "url = \"http://proxy.chtc.wisc.edu/SQUID/bcjohnson7/clean_pdb.tar.gz\"\n",
    "output_path = \"downloads/clean_pdb_2025-02-13.tar.gz\"\n",
    "\n",
    "download_file(url, output_path, 'curl')"
   ]
  },
  {
   "cell_type": "code",
   "execution_count": 8,
   "id": "c1020d55-971d-49c2-8f9e-2378ceb8cd09",
   "metadata": {},
   "outputs": [
    {
     "name": "stderr",
     "output_type": "stream",
     "text": [
      "Extracting: 100%|██████████| 6513/6513 [00:17<00:00, 365.90file/s]"
     ]
    },
    {
     "name": "stdout",
     "output_type": "stream",
     "text": [
      "\u001b[92m✅ Success: File untarred to 'clean_pdb_env'.\u001b[0m\n"
     ]
    },
    {
     "name": "stderr",
     "output_type": "stream",
     "text": [
      "\n"
     ]
    }
   ],
   "source": [
    "file_path = \"downloads/clean_pdb_2025-02-13.tar.gz\"\n",
    "extract_dir = \"clean_pdb_env\"\n",
    "\n",
    "untar_file_with_progress(file_path, extract_dir)"
   ]
  },
  {
   "cell_type": "markdown",
   "id": "eaff7200-1846-4d33-ab17-dcf3fe3240d6",
   "metadata": {},
   "source": [
    "## Download Rosetta\n",
    "\n",
    "We cannot download Rosetta directly to the OSG submit node because we would need ~80GB of free space, which exceeds the 50GB disk quota on the submit node. Instead, we will submit a job to download the full version of Rosetta and package a minimal distribution with just the files needed for metl-sim. \n",
    "\n",
    "**Note**: This code may take a few hours to run. After submitting the job, you are free to close this window and come back later as long as you check the rosetta job is running with the `job_status()` function. You cannot continue to the next step without downloading Rosetta.\n",
    "\n",
    "\n",
    "**<span style=\"color:red\">NOTE</span>**: By downloading Rosetta, you are subject the Rosetta licensing agreement: [link](https://github.com/RosettaCommons/rosetta/blob/main/LICENSE.md). The most important point is that the free version of Rosetta can only be used for **non-commercial** purposes. If you wish to use Rosetta for commercial purposes, please consult the licensing agreement.\n",
    "\n",
    "**Note:** You only need to run these cells once."
   ]
  },
  {
   "cell_type": "code",
   "execution_count": 3,
   "id": "5e58492c-4e1d-471d-b82d-395098a56d7b",
   "metadata": {},
   "outputs": [
    {
     "name": "stdout",
     "output_type": "stream",
     "text": [
      "\u001b[92m✅ No job named 'rosetta_download' exists'. You can use this job name.\u001b[0m\n",
      "\u001b[92m✅ Setting up job type `rosetta_download`\u001b[0m\n",
      "\u001b[92m✅ Job name: 'rosetta_download' submitted \u001b[92m\n"
     ]
    }
   ],
   "source": [
    "rosetta_job_name = 'rosetta_download'\n",
    "submit_condor_job(job_name=rosetta_job_name, job_type='rosetta_download')"
   ]
  },
  {
   "cell_type": "code",
   "execution_count": 3,
   "id": "c916bc8f-563a-4f61-9109-f907a8096cfd",
   "metadata": {},
   "outputs": [
    {
     "name": "stdout",
     "output_type": "stream",
     "text": [
      "\u001b[92m Status of all submitted jobs \u001b[0m\n",
      "                  Running⌛  Completed✅  Failed❌\n",
      "rosetta_download         0           1        0\n"
     ]
    }
   ],
   "source": [
    "job_status()"
   ]
  },
  {
   "cell_type": "markdown",
   "id": "2e3f8ad3-cbe5-4340-8420-7d9cc328b953",
   "metadata": {},
   "source": [
    "After checking job status and the `job_name` above is in the `completed` column, run the below function to post process the output from the job. "
   ]
  },
  {
   "cell_type": "code",
   "execution_count": 4,
   "id": "d1101be7-9590-4ff7-9c8f-647ef6f9a718",
   "metadata": {},
   "outputs": [
    {
     "name": "stderr",
     "output_type": "stream",
     "text": [
      "Extracting: 100%|██████████| 6/6 [01:11<00:00, 11.84s/file]\n"
     ]
    },
    {
     "name": "stdout",
     "output_type": "stream",
     "text": [
      "\u001b[92m✅ Success: File untarred to 'condor/rosetta_download/output/rosetta_download'.\u001b[0m\n",
      "\u001b[32m✅ Found Rosetta File: condor/rosetta_download/output/rosetta_download/output/squid_rosetta/rosetta_min_enc.tar.gz.aa\u001b[0m\n",
      "\u001b[32m✅ File transferred to downloads!\u001b[0m\n",
      "\u001b[32m✅ Found Rosetta File: condor/rosetta_download/output/rosetta_download/output/squid_rosetta/rosetta_min_enc.tar.gz.ab\u001b[0m\n",
      "\u001b[32m✅ File transferred to downloads!\u001b[0m\n",
      "\u001b[32m✅ Found Rosetta File: condor/rosetta_download/output/rosetta_download/output/squid_rosetta/rosetta_min_enc.tar.gz.ac\u001b[0m\n",
      "\u001b[32m✅ File transferred to downloads!\u001b[0m\n",
      "Combining split files for rosetta_min_enc.tar.gz\n",
      "Decrypting Rosetta\n",
      "OpenSSL 3.1.1 30 May 2023 (Library: OpenSSL 3.1.1 30 May 2023)\n",
      "\u001b[92m✅ Successfully decoded rosetta.\u001b[0m\n"
     ]
    },
    {
     "name": "stderr",
     "output_type": "stream",
     "text": [
      "Extracting: 100%|██████████| 24653/24653 [17:14<00:00, 23.84file/s]  "
     ]
    },
    {
     "name": "stdout",
     "output_type": "stream",
     "text": [
      "\u001b[92m✅ Success: File untarred to 'rosetta'.\u001b[0m\n"
     ]
    },
    {
     "name": "stderr",
     "output_type": "stream",
     "text": [
      "\n"
     ]
    }
   ],
   "source": [
    "rosetta_job_name = 'rosetta_download'\n",
    "post_process_rosetta_download(rosetta_job_name)"
   ]
  },
  {
   "cell_type": "markdown",
   "id": "48bab3fa-04ac-4e23-bbfb-e8efb0b354f7",
   "metadata": {},
   "source": [
    "## Set up shell scripts\n",
    "We also need to set the permissions of all bash scripts so we can run all the following functions. "
   ]
  },
  {
   "cell_type": "code",
   "execution_count": 5,
   "id": "54a11b81-88da-4203-b77a-ffc97a2633ee",
   "metadata": {},
   "outputs": [],
   "source": [
    "# Set permissions for the bash_scripts directory\n",
    "set_permissions('bash_scripts', '777')"
   ]
  },
  {
   "cell_type": "markdown",
   "id": "c8ad348e-2af2-48c4-b86f-62b96db63d07",
   "metadata": {},
   "source": [
    "# Running metl-sim on OSPool\n",
    "\n",
    "First, upload your pdb file to the folder `metl-sim/pdb_files/raw_pdb_files`.\n",
    "\n",
    "Then replace `2qmt.pdb` with your pdb file name in the cell below. The example structure `2qmt.pdb` is the binding domain of Protein G (GB1). "
   ]
  },
  {
   "cell_type": "code",
   "execution_count": 6,
   "id": "f1ed2ddd-2d49-4e03-8b04-da30fc6180b4",
   "metadata": {},
   "outputs": [],
   "source": [
    "pdb_file_name = '2qmt.pdb'"
   ]
  },
  {
   "attachments": {},
   "cell_type": "markdown",
   "id": "c6491f94-cfe4-40d4-9064-7c7e45d4c849",
   "metadata": {},
   "source": [
    "## Prepare the PDB file for Rosetta\n",
    "\n",
    "To run Rosetta, the developers recommend some preprocessing steps in order to resolve atom clashes that commonly occur in structures taken from the PDB database. \n",
    "\n",
    "Run the below cell to perform this preprocessing step. For higher accuracy you can increase the parameter `relax_nstruct`, however the compute time will start to increase at higher numbers of structures. "
   ]
  },
  {
   "cell_type": "code",
   "execution_count": 7,
   "id": "2bcc5565-8568-49f2-8d1e-10ec4b552cda",
   "metadata": {},
   "outputs": [
    {
     "name": "stdout",
     "output_type": "stream",
     "text": [
      "\u001b[32m✅ Prepare.py executed successfully!\u001b[0m\n",
      "\u001b[32m✅ File transferred to pdb_files/prepared_pdb_files!\u001b[0m\n"
     ]
    }
   ],
   "source": [
    "run_prepare_script(\n",
    "    rosetta_main_dir='notebooks/osg/rosetta/rosetta_minimal',\n",
    "    pdb_fn=f'pdb_files/raw_pdb_files/{pdb_file_name}',\n",
    "    relax_nstruct=1,\n",
    "    out_dir_base='output/prepare_outputs',\n",
    "    conda_pack_env=\"notebooks/osg/clean_pdb_env\"\n",
    ")"
   ]
  },
  {
   "cell_type": "markdown",
   "id": "729e90c8-941a-4d1d-9821-1b5e2cdb5f43",
   "metadata": {},
   "source": [
    "## Generate variants\n",
    "\n",
    "We need to generate the protein variants that we want to model with Rosetta. Below, you can specify the number of variants to generate with the parameter `variants_to_generate`. We recommend at minimum generating 100,000 variants, but you may need more for best results, especially for larger proteins.  The `max_subs` and `min_subs` parameters determine the number of mutations per variant. We recommend `max_subs=5` and `min_subs=2`."
   ]
  },
  {
   "cell_type": "code",
   "execution_count": 8,
   "id": "d87c612f-623e-479d-b11a-a57c5734d261",
   "metadata": {},
   "outputs": [
    {
     "name": "stdout",
     "output_type": "stream",
     "text": [
      "\u001b[32m✅ A variant file with these parameters doesn't exist: \n",
      " \t variants to generate: 2\n",
      "\t maximum substitutions: 1 \n",
      "\t minimum substitutions: 1 \n",
      "\t random seed: 2 \n",
      "\t filename: 2qmt_p_subvariants_TN-2_MAXS-1_MINS-1_filtered-DB-0-2qmt_p_RS-2.txt \n",
      "--> Generating variants now ⌛\u001b[0m\n",
      "\u001b[32m✅ Successfully generate variants!\u001b[0m\n"
     ]
    }
   ],
   "source": [
    "variants_to_generate = 2\n",
    "run_variant_script(\n",
    "    pdb_fn=f'pdb_files/prepared_pdb_files/{pdb_file_name.split(\".\")[0]}_p.pdb',\n",
    "    variants_to_generate=variants_to_generate,\n",
    "    max_subs=1,\n",
    "    min_subs=1,\n",
    "    seed=2\n",
    ")"
   ]
  },
  {
   "cell_type": "markdown",
   "id": "fb84a064-2e5f-4f2a-8c43-c3128b985c6d",
   "metadata": {},
   "source": [
    "## Set up the metl-sim job"
   ]
  },
  {
   "cell_type": "code",
   "execution_count": 9,
   "id": "7461563f-37d8-4894-ba7b-9fc94d286208",
   "metadata": {},
   "outputs": [
    {
     "name": "stdout",
     "output_type": "stream",
     "text": [
      "\u001b[32m✅ Job name metl_sim_job_1 is available, preparing rosetta job\u001b[0m\n",
      "\u001b[32m✅ Variant file exists: 2qmt_p_subvariants_TN-2_MAXS-1_MINS-1_filtered-DB-0-2qmt_p_RS-2.txt\u001b[0m\n",
      "\u001b[32m✅ Total number of variants: 2\u001b[0m\n",
      "\u001b[32m✅ Successfully prepared OSG run!\u001b[0m\n"
     ]
    }
   ],
   "source": [
    "pdb_file_name = \"2qmt.pdb\"\n",
    "job_name = \"metl_sim_job_1\"\n",
    "variant_fns = [\"2qmt_p_subvariants_TN-2_MAXS-1_MINS-1_filtered-DB-0-2qmt_p_RS-2.txt\"]\n",
    "\n",
    "prepare_rosetta_run(job_name, pdb_file_name, variant_fns)"
   ]
  },
  {
   "cell_type": "markdown",
   "id": "8ab99b9f-6a08-4526-b319-43b3cfd24466",
   "metadata": {},
   "source": [
    "## Submit the metl-sim job\n",
    "\n",
    "This function submits the metl-sim job to the OSG OSPool. After running the following cell, you should be able to run `job_status()` and see that your job is likely `Running`. If running many variants, the job may take a long time to complete."
   ]
  },
  {
   "cell_type": "code",
   "execution_count": 10,
   "id": "e77dc3a3-1d6a-4e4e-8393-d45a7efadf40",
   "metadata": {},
   "outputs": [
    {
     "name": "stdout",
     "output_type": "stream",
     "text": [
      "\u001b[92m✅ No job named 'metl_sim_job_1' exists'. You can use this job name.\u001b[0m\n",
      "\u001b[92m✅ Setting up job type `relax`\u001b[0m\n"
     ]
    },
    {
     "name": "stderr",
     "output_type": "stream",
     "text": [
      "Extracting: 100%|██████████| 2/2 [00:00<00:00, 449.82file/s]"
     ]
    },
    {
     "name": "stdout",
     "output_type": "stream",
     "text": [
      "\u001b[92m✅ Success: File untarred to 'condor/metl_sim_job_1'.\u001b[0m\n"
     ]
    },
    {
     "name": "stderr",
     "output_type": "stream",
     "text": [
      "\n"
     ]
    },
    {
     "name": "stdout",
     "output_type": "stream",
     "text": [
      "\u001b[92m✅ Job name: 'metl_sim_job_1' submitted \u001b[92m\n"
     ]
    }
   ],
   "source": [
    "submit_condor_job(job_name='metl_sim_job_1', job_type='relax')"
   ]
  },
  {
   "cell_type": "markdown",
   "id": "d1344399-0a6c-42f9-8032-d535c256f219",
   "metadata": {},
   "source": [
    "Running job status, as mentioned before, will state the jobs that are running, completed, and failed for all the jobs you have submitted. You should see your job in the running column. "
   ]
  },
  {
   "cell_type": "code",
   "execution_count": 12,
   "id": "5e0e3ac9-e655-4bab-b12a-92393a1e2f8b",
   "metadata": {},
   "outputs": [
    {
     "name": "stdout",
     "output_type": "stream",
     "text": [
      "\u001b[92m Status of all submitted jobs \u001b[0m\n",
      "                  Running⌛  Completed✅  Failed❌\n",
      "metl_sim_job_1           0           1        0\n",
      "rosetta_download         0           1        0\n"
     ]
    }
   ],
   "source": [
    "job_status()"
   ]
  },
  {
   "cell_type": "markdown",
   "id": "da616008-021d-4d88-a1d2-4b9703b4c1e0",
   "metadata": {},
   "source": [
    "## Post process the metl-sim job"
   ]
  },
  {
   "cell_type": "code",
   "execution_count": 19,
   "id": "1a806df2-a21f-4d73-843c-7f97d9745fa6",
   "metadata": {},
   "outputs": [
    {
     "name": "stdout",
     "output_type": "stream",
     "text": [
      "\u001b[32m✅ Successfully post process job name metl_sim_job_1\u001b[0m\n"
     ]
    }
   ],
   "source": [
    "df = run_post_process_script(job_name='metl_sim_job_1')"
   ]
  },
  {
   "cell_type": "markdown",
   "id": "69fb1ed4-b313-45bd-a54a-040142354f0d",
   "metadata": {},
   "source": [
    "The variable `df` corresponds to a Pandas dataframe which contains the rosetta scores for each variant. The cell below prints the Rosetta `total_score` for the first 100 variants that were processed."
   ]
  },
  {
   "cell_type": "code",
   "execution_count": 22,
   "id": "88164a51-3b81-46d6-82fa-7ee29488e5e8",
   "metadata": {},
   "outputs": [
    {
     "data": {
      "text/html": [
       "<div>\n",
       "<style scoped>\n",
       "    .dataframe tbody tr th:only-of-type {\n",
       "        vertical-align: middle;\n",
       "    }\n",
       "\n",
       "    .dataframe tbody tr th {\n",
       "        vertical-align: top;\n",
       "    }\n",
       "\n",
       "    .dataframe thead th {\n",
       "        text-align: right;\n",
       "    }\n",
       "</style>\n",
       "<table border=\"1\" class=\"dataframe\">\n",
       "  <thead>\n",
       "    <tr style=\"text-align: right;\">\n",
       "      <th></th>\n",
       "      <th>variant</th>\n",
       "      <th>total_score</th>\n",
       "    </tr>\n",
       "  </thead>\n",
       "  <tbody>\n",
       "    <tr>\n",
       "      <th>0</th>\n",
       "      <td>D47G</td>\n",
       "      <td>-164.827</td>\n",
       "    </tr>\n",
       "    <tr>\n",
       "      <th>1</th>\n",
       "      <td>L7G</td>\n",
       "      <td>-170.524</td>\n",
       "    </tr>\n",
       "  </tbody>\n",
       "</table>\n",
       "</div>"
      ],
      "text/plain": [
       "  variant  total_score\n",
       "0    D47G     -164.827\n",
       "1     L7G     -170.524"
      ]
     },
     "execution_count": 22,
     "metadata": {},
     "output_type": "execute_result"
    }
   ],
   "source": [
    "df[['variant','total_score']].head(100)"
   ]
  },
  {
   "cell_type": "markdown",
   "id": "ab06697a-e2e4-4d1b-a469-4e23dd6c6a6f",
   "metadata": {},
   "source": [
    "The full dataframe contains all the computed energies."
   ]
  },
  {
   "cell_type": "code",
   "execution_count": 23,
   "id": "e532c9a1-2ef6-4187-830d-2eb07c1e1771",
   "metadata": {},
   "outputs": [
    {
     "data": {
      "text/html": [
       "<div>\n",
       "<style scoped>\n",
       "    .dataframe tbody tr th:only-of-type {\n",
       "        vertical-align: middle;\n",
       "    }\n",
       "\n",
       "    .dataframe tbody tr th {\n",
       "        vertical-align: top;\n",
       "    }\n",
       "\n",
       "    .dataframe thead th {\n",
       "        text-align: right;\n",
       "    }\n",
       "</style>\n",
       "<table border=\"1\" class=\"dataframe\">\n",
       "  <thead>\n",
       "    <tr style=\"text-align: right;\">\n",
       "      <th></th>\n",
       "      <th>pdb_fn</th>\n",
       "      <th>variant</th>\n",
       "      <th>job_uuid</th>\n",
       "      <th>start_time</th>\n",
       "      <th>run_time</th>\n",
       "      <th>mutate_run_time</th>\n",
       "      <th>relax_run_time</th>\n",
       "      <th>filter_run_time</th>\n",
       "      <th>centroid_run_time</th>\n",
       "      <th>total_score</th>\n",
       "      <th>...</th>\n",
       "      <th>env</th>\n",
       "      <th>hs_pair</th>\n",
       "      <th>linear_chainbreak</th>\n",
       "      <th>overlap_chainbreak</th>\n",
       "      <th>pair</th>\n",
       "      <th>rg</th>\n",
       "      <th>rsigma</th>\n",
       "      <th>sheet</th>\n",
       "      <th>ss_pair</th>\n",
       "      <th>vdw</th>\n",
       "    </tr>\n",
       "  </thead>\n",
       "  <tbody>\n",
       "    <tr>\n",
       "      <th>0</th>\n",
       "      <td>2qmt_p.pdb</td>\n",
       "      <td>D47G</td>\n",
       "      <td>oSamHFNbmHG6</td>\n",
       "      <td>2025-02-18 16:38:54</td>\n",
       "      <td>39</td>\n",
       "      <td>12</td>\n",
       "      <td>12</td>\n",
       "      <td>13</td>\n",
       "      <td>0</td>\n",
       "      <td>-164.827</td>\n",
       "      <td>...</td>\n",
       "      <td>-19.905</td>\n",
       "      <td>-4.264</td>\n",
       "      <td>0.0</td>\n",
       "      <td>0.0</td>\n",
       "      <td>0.094</td>\n",
       "      <td>33.156</td>\n",
       "      <td>-21.048</td>\n",
       "      <td>0.343</td>\n",
       "      <td>-31.367</td>\n",
       "      <td>0.0</td>\n",
       "    </tr>\n",
       "    <tr>\n",
       "      <th>1</th>\n",
       "      <td>2qmt_p.pdb</td>\n",
       "      <td>L7G</td>\n",
       "      <td>oSamHFNbmHG6</td>\n",
       "      <td>2025-02-18 16:39:34</td>\n",
       "      <td>39</td>\n",
       "      <td>12</td>\n",
       "      <td>13</td>\n",
       "      <td>13</td>\n",
       "      <td>0</td>\n",
       "      <td>-170.524</td>\n",
       "      <td>...</td>\n",
       "      <td>-21.988</td>\n",
       "      <td>-4.059</td>\n",
       "      <td>0.0</td>\n",
       "      <td>0.0</td>\n",
       "      <td>-1.545</td>\n",
       "      <td>32.870</td>\n",
       "      <td>-22.924</td>\n",
       "      <td>0.343</td>\n",
       "      <td>-33.863</td>\n",
       "      <td>0.0</td>\n",
       "    </tr>\n",
       "  </tbody>\n",
       "</table>\n",
       "<p>2 rows × 69 columns</p>\n",
       "</div>"
      ],
      "text/plain": [
       "       pdb_fn variant      job_uuid           start_time  run_time  \\\n",
       "0  2qmt_p.pdb    D47G  oSamHFNbmHG6  2025-02-18 16:38:54        39   \n",
       "1  2qmt_p.pdb     L7G  oSamHFNbmHG6  2025-02-18 16:39:34        39   \n",
       "\n",
       "   mutate_run_time  relax_run_time  filter_run_time  centroid_run_time  \\\n",
       "0               12              12               13                  0   \n",
       "1               12              13               13                  0   \n",
       "\n",
       "   total_score  ...     env  hs_pair  linear_chainbreak  overlap_chainbreak  \\\n",
       "0     -164.827  ... -19.905   -4.264                0.0                 0.0   \n",
       "1     -170.524  ... -21.988   -4.059                0.0                 0.0   \n",
       "\n",
       "    pair      rg  rsigma  sheet  ss_pair  vdw  \n",
       "0  0.094  33.156 -21.048  0.343  -31.367  0.0  \n",
       "1 -1.545  32.870 -22.924  0.343  -33.863  0.0  \n",
       "\n",
       "[2 rows x 69 columns]"
      ]
     },
     "execution_count": 23,
     "metadata": {},
     "output_type": "execute_result"
    }
   ],
   "source": [
    "df"
   ]
  },
  {
   "cell_type": "markdown",
   "id": "92e80f4a-0e56-42b4-b4e5-03eb4cf0ff18",
   "metadata": {},
   "source": [
    "# Issues or questions\n",
    "\n",
    "Please reach out to us on the [metl-sim GitHub](https://github.com/gitter-lab/metl-sim/issues)."
   ]
  },
  {
   "cell_type": "code",
   "execution_count": null,
   "id": "50816aa9-c74d-40e1-8d1b-3b3590c56dcd",
   "metadata": {},
   "outputs": [],
   "source": []
  }
 ],
 "metadata": {
  "kernelspec": {
   "display_name": "Python [conda env:base] *",
   "language": "python",
   "name": "conda-base-py"
  },
  "language_info": {
   "codemirror_mode": {
    "name": "ipython",
    "version": 3
   },
   "file_extension": ".py",
   "mimetype": "text/x-python",
   "name": "python",
   "nbconvert_exporter": "python",
   "pygments_lexer": "ipython3",
   "version": "3.12.8"
  }
 },
 "nbformat": 4,
 "nbformat_minor": 5
}
